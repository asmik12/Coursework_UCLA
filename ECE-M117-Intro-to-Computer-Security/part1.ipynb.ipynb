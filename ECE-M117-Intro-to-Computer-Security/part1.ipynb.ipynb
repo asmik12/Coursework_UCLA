{
  "nbformat": 4,
  "nbformat_minor": 0,
  "metadata": {
    "colab": {
      "provenance": [],
      "gpuType": "T4"
    },
    "kernelspec": {
      "name": "python3",
      "display_name": "Python 3"
    },
    "language_info": {
      "name": "python"
    },
    "accelerator": "GPU"
  },
  "cells": [
    {
      "cell_type": "markdown",
      "source": [
        "# ECE 117 Assignment 3: Part 1\n",
        "Training an MNIST model. Goal is to achieve 90+% accuracy."
      ],
      "metadata": {
        "id": "iqiQJiuwmwe7"
      }
    },
    {
      "cell_type": "code",
      "execution_count": 1,
      "metadata": {
        "id": "2wTZOXcjLCwr"
      },
      "outputs": [],
      "source": [
        "import torch\n",
        "import torch.nn as nn\n",
        "import torch.nn.functional as F\n",
        "import torch.optim as optim\n",
        "from torchvision import datasets, transforms\n",
        "\n",
        "import tqdm\n",
        "\n",
        "import matplotlib.pyplot as plt"
      ]
    },
    {
      "cell_type": "code",
      "source": [
        "# check if the GPUs are available to use\n",
        "# if you get \"Using CUDA device\", then you are using GPUs\n",
        "# you can select \"Runtime -> Change runtime type\" on Colab to change your GPU instance\n",
        "\n",
        "device = torch.device(\"cuda\" if torch.cuda.is_available() else \"cpu\")\n",
        "print(f\"Using {device} device\")"
      ],
      "metadata": {
        "id": "54tKVio-le7t",
        "colab": {
          "base_uri": "https://localhost:8080/"
        },
        "outputId": "94b80e50-8944-49fa-af57-d58903b78d2e"
      },
      "execution_count": 2,
      "outputs": [
        {
          "output_type": "stream",
          "name": "stdout",
          "text": [
            "Using cuda device\n"
          ]
        }
      ]
    },
    {
      "cell_type": "code",
      "source": [
        "# prepare the datasets, in part1, we use MNIST\n",
        "# the following code will download MNIST dataset\n",
        "\n",
        "transform = transforms.Compose([transforms.ToTensor()])\n",
        "\n",
        "train_data = datasets.MNIST(\"./data\", train=True, download=True, transform=transform)\n",
        "test_data = datasets.MNIST(\"./data\", train=False, download=True, transform=transform)"
      ],
      "metadata": {
        "id": "owZpYaGtlKnH",
        "colab": {
          "base_uri": "https://localhost:8080/"
        },
        "outputId": "b005f329-c76c-4931-a215-8bd5b1e55aa8"
      },
      "execution_count": 3,
      "outputs": [
        {
          "output_type": "stream",
          "name": "stdout",
          "text": [
            "Downloading http://yann.lecun.com/exdb/mnist/train-images-idx3-ubyte.gz\n",
            "Failed to download (trying next):\n",
            "HTTP Error 403: Forbidden\n",
            "\n",
            "Downloading https://ossci-datasets.s3.amazonaws.com/mnist/train-images-idx3-ubyte.gz\n",
            "Downloading https://ossci-datasets.s3.amazonaws.com/mnist/train-images-idx3-ubyte.gz to ./data/MNIST/raw/train-images-idx3-ubyte.gz\n"
          ]
        },
        {
          "output_type": "stream",
          "name": "stderr",
          "text": [
            "100%|██████████| 9.91M/9.91M [00:00<00:00, 51.4MB/s]\n"
          ]
        },
        {
          "output_type": "stream",
          "name": "stdout",
          "text": [
            "Extracting ./data/MNIST/raw/train-images-idx3-ubyte.gz to ./data/MNIST/raw\n",
            "\n",
            "Downloading http://yann.lecun.com/exdb/mnist/train-labels-idx1-ubyte.gz\n",
            "Failed to download (trying next):\n",
            "HTTP Error 403: Forbidden\n",
            "\n",
            "Downloading https://ossci-datasets.s3.amazonaws.com/mnist/train-labels-idx1-ubyte.gz\n",
            "Downloading https://ossci-datasets.s3.amazonaws.com/mnist/train-labels-idx1-ubyte.gz to ./data/MNIST/raw/train-labels-idx1-ubyte.gz\n"
          ]
        },
        {
          "output_type": "stream",
          "name": "stderr",
          "text": [
            "100%|██████████| 28.9k/28.9k [00:00<00:00, 1.80MB/s]"
          ]
        },
        {
          "output_type": "stream",
          "name": "stdout",
          "text": [
            "Extracting ./data/MNIST/raw/train-labels-idx1-ubyte.gz to ./data/MNIST/raw\n",
            "\n",
            "Downloading http://yann.lecun.com/exdb/mnist/t10k-images-idx3-ubyte.gz\n"
          ]
        },
        {
          "output_type": "stream",
          "name": "stderr",
          "text": [
            "\n"
          ]
        },
        {
          "output_type": "stream",
          "name": "stdout",
          "text": [
            "Failed to download (trying next):\n",
            "HTTP Error 403: Forbidden\n",
            "\n",
            "Downloading https://ossci-datasets.s3.amazonaws.com/mnist/t10k-images-idx3-ubyte.gz\n",
            "Downloading https://ossci-datasets.s3.amazonaws.com/mnist/t10k-images-idx3-ubyte.gz to ./data/MNIST/raw/t10k-images-idx3-ubyte.gz\n"
          ]
        },
        {
          "output_type": "stream",
          "name": "stderr",
          "text": [
            "100%|██████████| 1.65M/1.65M [00:00<00:00, 13.8MB/s]\n"
          ]
        },
        {
          "output_type": "stream",
          "name": "stdout",
          "text": [
            "Extracting ./data/MNIST/raw/t10k-images-idx3-ubyte.gz to ./data/MNIST/raw\n",
            "\n",
            "Downloading http://yann.lecun.com/exdb/mnist/t10k-labels-idx1-ubyte.gz\n",
            "Failed to download (trying next):\n",
            "HTTP Error 403: Forbidden\n",
            "\n",
            "Downloading https://ossci-datasets.s3.amazonaws.com/mnist/t10k-labels-idx1-ubyte.gz\n",
            "Downloading https://ossci-datasets.s3.amazonaws.com/mnist/t10k-labels-idx1-ubyte.gz to ./data/MNIST/raw/t10k-labels-idx1-ubyte.gz\n"
          ]
        },
        {
          "output_type": "stream",
          "name": "stderr",
          "text": [
            "100%|██████████| 4.54k/4.54k [00:00<00:00, 13.7MB/s]"
          ]
        },
        {
          "output_type": "stream",
          "name": "stdout",
          "text": [
            "Extracting ./data/MNIST/raw/t10k-labels-idx1-ubyte.gz to ./data/MNIST/raw\n",
            "\n"
          ]
        },
        {
          "output_type": "stream",
          "name": "stderr",
          "text": [
            "\n"
          ]
        }
      ]
    },
    {
      "cell_type": "code",
      "source": [
        "# load the dataset via PyTorch dataloader, batch_size is set as 32\n",
        "\n",
        "train_loader = torch.utils.data.DataLoader(train_data, batch_size=32, shuffle=True)\n",
        "test_loader = torch.utils.data.DataLoader(test_data, batch_size=32, shuffle=False)"
      ],
      "metadata": {
        "id": "To0gFIF9lP0r"
      },
      "execution_count": 4,
      "outputs": []
    },
    {
      "cell_type": "code",
      "source": [
        "# the baseline model is implemented as a referral\n",
        "# in this baseline:\n",
        "# --- CNN ----\n",
        "# --- layer: [4] ---\n",
        "# --- 2 convolution layers + 2 fully connected (fc) layers ---\n",
        "# Dropout(): regulation of outputs to solve overfitting, it randomly selects a portion of values after activations in model training\n",
        "# relu(): activation function\n",
        "# nn.Linear(in_features, out_features, bias=True)\n",
        "# nn.Conv2d(in_channels, out_channels, kernel_size, stride=1, padding=0, ...)\n",
        "# max_pool2d(): maximun pooling layer is for down sampling\n",
        "\n",
        "class CNN(nn.Module):\n",
        "    def __init__(self):\n",
        "        super(CNN, self).__init__()\n",
        "        self.conv1 = nn.Conv2d(1, 32, 3, 1)\n",
        "        self.conv2 = nn.Conv2d(32, 64, 3, 1)\n",
        "        self.dropout1 = nn.Dropout(0.25)\n",
        "        self.dropout2 = nn.Dropout(0.5)\n",
        "        self.fc1 = nn.Linear(9216, 128)\n",
        "        self.fc2 = nn.Linear(128, 10)\n",
        "\n",
        "    def forward(self, x):\n",
        "        x = self.conv1(x)\n",
        "        x = F.relu(x)\n",
        "        x = self.conv2(x)\n",
        "        x = F.relu(x)\n",
        "        x = F.max_pool2d(x, 2)\n",
        "        x = self.dropout1(x)\n",
        "        x = torch.flatten(x, 1)\n",
        "        x = self.fc1(x)\n",
        "        x = F.relu(x)\n",
        "        x = self.dropout2(x)\n",
        "        x = self.fc2(x)\n",
        "        output = F.log_softmax(x, dim=1)\n",
        "        return output"
      ],
      "metadata": {
        "id": "sXFwbjUJlR_q"
      },
      "execution_count": 5,
      "outputs": []
    },
    {
      "cell_type": "code",
      "source": [
        "model = CNN().to(device)\n",
        "\n",
        "i_max = 512 # TODO: choose a value here: i_max means total iteration of training\n",
        "\n",
        "criterion =  torch.nn.CrossEntropyLoss() # TODO: choose a value here: criterion is a loss function\n",
        "optimizer = torch.optim.Adam(model.parameters(), lr=0.001, weight_decay=0.0001) # TODO:  choose a value here: is a optimizer"
      ],
      "metadata": {
        "id": "jMVEtJbIlbX2"
      },
      "execution_count": 28,
      "outputs": []
    },
    {
      "cell_type": "code",
      "source": [
        "@torch.no_grad()\n",
        "def get_accuracy(model, data_loader, device):\n",
        "    correct = 0\n",
        "    total = 0\n",
        "\n",
        "    for inputs, labels in data_loader:\n",
        "        inputs = inputs.to(device)\n",
        "        labels = labels.to(device)\n",
        "\n",
        "        outputs = model(inputs)\n",
        "        _, predicted = torch.max(outputs, dim=1)\n",
        "\n",
        "        total += labels.shape[0]\n",
        "        correct += int((predicted == labels).sum())\n",
        "\n",
        "    return correct / total"
      ],
      "metadata": {
        "id": "VFVhHKdIlkI2"
      },
      "execution_count": 29,
      "outputs": []
    },
    {
      "cell_type": "code",
      "source": [
        "progress = tqdm.tqdm(total=i_max, desc=\"Training\")\n",
        "\n",
        "i = 0\n",
        "while i < i_max:\n",
        "    for inputs, labels in train_loader:\n",
        "      # TODO: implement the training function, this includes a Forward Pass and a Backward Pass, we divide the tasks into smaller subtasks for you\n",
        "\n",
        "        # ============ Forward Pass ==========\n",
        "        # model's training forward pass\n",
        "\n",
        "        # move the images and labels to the GPU\n",
        "        inputs, labels = inputs.to(device), labels.to(device)\n",
        "\n",
        "        # get the output of the model\n",
        "        outputs = model(inputs)\n",
        "\n",
        "        # calculate the loss with respect to the output\n",
        "        loss = criterion(outputs, labels)\n",
        "\n",
        "        # ============= Backwards Pass ===========\n",
        "        # zero the optimizer's gradient\n",
        "        optimizer.zero_grad()\n",
        "\n",
        "        # perform backpropagation on the loss function\n",
        "        loss.backward()\n",
        "\n",
        "        # call .step() on the optimizer\n",
        "        optimizer.step()\n",
        "\n",
        "      # End of TODO\n",
        "\n",
        "        i += 1\n",
        "        progress.update(1)\n",
        "\n",
        "        # print log every 100 iterations\n",
        "        if i % 100 == 0:\n",
        "            train_acc = get_accuracy(model, train_loader, device)\n",
        "            test_acc = get_accuracy(model, test_loader, device)\n",
        "            progress.write(f\"Iter {i} Train Acc {train_acc:.4f} Test Acc {test_acc:.4f}\")\n",
        "\n",
        "        if i >= i_max:\n",
        "            break\n",
        "\n",
        "torch.save(model.state_dict(), \"./model.pth\")"
      ],
      "metadata": {
        "id": "p2kvO4Hjll_w",
        "colab": {
          "base_uri": "https://localhost:8080/"
        },
        "outputId": "1181d081-eafb-41fd-ab64-891d5f507c70"
      },
      "execution_count": 30,
      "outputs": [
        {
          "output_type": "stream",
          "name": "stderr",
          "text": [
            "\n",
            "\n",
            "Training:   0%|          | 0/512 [00:00<?, ?it/s]\u001b[A\u001b[A\n",
            "\n",
            "Training: 100%|██████████| 256/256 [01:11<00:00,  3.59it/s]\n",
            "\n",
            "\n",
            "Training:   7%|▋         | 36/512 [00:00<00:03, 158.14it/s]\u001b[A\u001b[A\n",
            "\n",
            "Training:  10%|█         | 53/512 [00:00<00:02, 160.74it/s]\u001b[A\u001b[A\n",
            "\n",
            "Training:  14%|█▎        | 70/512 [00:00<00:02, 160.34it/s]\u001b[A\u001b[A\n",
            "\n",
            "Training:  17%|█▋        | 87/512 [00:00<00:02, 159.53it/s]\u001b[A\u001b[A\n",
            "\n",
            "\u001b[A\u001b[A\n",
            "\u001b[A\n",
            "\n",
            "Training:  20%|█▉        | 100/512 [00:10<00:02, 159.53it/s]\u001b[A\u001b[A\n",
            "Training:  47%|████▋     | 300/640 [05:10<00:09, 34.23it/s]\u001b[A\n",
            "\n",
            "Training:  20%|██        | 103/512 [00:10<01:25,  4.81it/s] \u001b[A\u001b[A\n",
            "\n",
            "Training:  24%|██▎       | 121/512 [00:10<00:54,  7.20it/s]\u001b[A\u001b[A"
          ]
        },
        {
          "output_type": "stream",
          "name": "stdout",
          "text": [
            "Iter 100 Train Acc 0.8607 Test Acc 0.8631\n"
          ]
        },
        {
          "output_type": "stream",
          "name": "stderr",
          "text": [
            "\n",
            "\n",
            "Training:  27%|██▋       | 138/512 [00:10<00:36, 10.32it/s]\u001b[A\u001b[A\n",
            "\n",
            "Training:  30%|███       | 155/512 [00:10<00:24, 14.53it/s]\u001b[A\u001b[A\n",
            "\n",
            "Training:  34%|███▎      | 172/512 [00:11<00:16, 20.03it/s]\u001b[A\u001b[A\n",
            "\n",
            "Training:  37%|███▋      | 189/512 [00:11<00:11, 27.41it/s]\u001b[A\u001b[A\n",
            "\n",
            "\u001b[A\u001b[A\n",
            "\u001b[A\n",
            "\n",
            "Training:  39%|███▉      | 200/512 [00:20<00:11, 27.41it/s]\u001b[A\u001b[A\n",
            "Training:  47%|████▋     | 300/640 [05:20<00:09, 34.23it/s]\u001b[A\n",
            "\n",
            "Training:  40%|████      | 205/512 [00:20<01:02,  4.94it/s]\u001b[A\u001b[A\n",
            "\n",
            "Training:  42%|████▏     | 217/512 [00:20<00:46,  6.40it/s]\u001b[A\u001b[A"
          ]
        },
        {
          "output_type": "stream",
          "name": "stdout",
          "text": [
            "Iter 200 Train Acc 0.9139 Test Acc 0.9166\n"
          ]
        },
        {
          "output_type": "stream",
          "name": "stderr",
          "text": [
            "\n",
            "\n",
            "Training:  45%|████▍     | 229/512 [00:21<00:33,  8.40it/s]\u001b[A\u001b[A\n",
            "\n",
            "Training:  47%|████▋     | 241/512 [00:21<00:24, 11.15it/s]\u001b[A\u001b[A\n",
            "\n",
            "Training:  50%|████▉     | 254/512 [00:21<00:17, 15.18it/s]\u001b[A\u001b[A\n",
            "\n",
            "Training:  52%|█████▏    | 266/512 [00:21<00:12, 19.86it/s]\u001b[A\u001b[A\n",
            "\n",
            "Training:  54%|█████▍    | 278/512 [00:21<00:09, 25.90it/s]\u001b[A\u001b[A\n",
            "\n",
            "Training:  57%|█████▋    | 290/512 [00:21<00:06, 33.03it/s]\u001b[A\u001b[A\n",
            "\n",
            "\u001b[A\u001b[A\n",
            "\u001b[A\n",
            "\n",
            "Training:  59%|█████▊    | 300/512 [00:31<00:06, 33.03it/s]\u001b[A\u001b[A\n",
            "Training:  47%|████▋     | 300/640 [05:31<00:09, 34.23it/s]\u001b[A\n",
            "\n",
            "Training:  59%|█████▉    | 301/512 [00:31<00:54,  3.86it/s]\u001b[A\u001b[A\n",
            "\n",
            "Training:  62%|██████▏   | 318/512 [00:31<00:31,  6.11it/s]\u001b[A\u001b[A"
          ]
        },
        {
          "output_type": "stream",
          "name": "stdout",
          "text": [
            "Iter 300 Train Acc 0.9307 Test Acc 0.9364\n"
          ]
        },
        {
          "output_type": "stream",
          "name": "stderr",
          "text": [
            "\n",
            "\n",
            "Training:  65%|██████▌   | 334/512 [00:31<00:19,  9.04it/s]\u001b[A\u001b[A\n",
            "\n",
            "Training:  69%|██████▊   | 351/512 [00:31<00:12, 13.28it/s]\u001b[A\u001b[A\n",
            "\n",
            "Training:  71%|███████▏  | 366/512 [00:31<00:08, 18.24it/s]\u001b[A\u001b[A\n",
            "\n",
            "Training:  75%|███████▍  | 382/512 [00:31<00:05, 25.16it/s]\u001b[A\u001b[A\n",
            "\n",
            "Training:  78%|███████▊  | 399/512 [00:31<00:03, 34.60it/s]\u001b[A\u001b[A\n",
            "\n",
            "\u001b[A\u001b[A\n",
            "\u001b[A\n",
            "\n",
            "Training:  78%|███████▊  | 400/512 [00:41<00:03, 34.60it/s]\u001b[A\u001b[A\n",
            "Training:  47%|████▋     | 300/640 [05:41<00:09, 34.23it/s]\u001b[A\n",
            "\n",
            "Training:  81%|████████  | 414/512 [00:41<00:20,  4.69it/s]\u001b[A\u001b[A\n",
            "\n",
            "Training:  84%|████████▍ | 431/512 [00:41<00:11,  6.80it/s]\u001b[A\u001b[A"
          ]
        },
        {
          "output_type": "stream",
          "name": "stdout",
          "text": [
            "Iter 400 Train Acc 0.9391 Test Acc 0.9459\n"
          ]
        },
        {
          "output_type": "stream",
          "name": "stderr",
          "text": [
            "\n",
            "\n",
            "Training:  87%|████████▋ | 447/512 [00:41<00:06,  9.50it/s]\u001b[A\u001b[A\n",
            "\n",
            "Training:  90%|█████████ | 463/512 [00:42<00:03, 13.24it/s]\u001b[A\u001b[A\n",
            "\n",
            "Training:  94%|█████████▎| 479/512 [00:42<00:01, 18.22it/s]\u001b[A\u001b[A\n",
            "\n",
            "Training:  97%|█████████▋| 495/512 [00:42<00:00, 24.77it/s]\u001b[A\u001b[A\n",
            "\n",
            "\u001b[A\u001b[A\n",
            "\u001b[A\n",
            "\n",
            "Training:  98%|█████████▊| 500/512 [00:52<00:00, 24.77it/s]\u001b[A\u001b[A\n",
            "Training:  47%|████▋     | 300/640 [05:52<00:09, 34.23it/s]\u001b[A\n",
            "\n",
            "Training: 100%|█████████▉| 511/512 [00:52<00:00,  4.65it/s]\u001b[A\u001b[A"
          ]
        },
        {
          "output_type": "stream",
          "name": "stdout",
          "text": [
            "Iter 500 Train Acc 0.9466 Test Acc 0.9477\n"
          ]
        }
      ]
    },
    {
      "cell_type": "code",
      "source": [
        "model.load_state_dict(torch.load(\"./model.pth\"))\n",
        "\n",
        "model.eval()"
      ],
      "metadata": {
        "id": "oOms8bLDmWAQ",
        "colab": {
          "base_uri": "https://localhost:8080/"
        },
        "outputId": "35499e04-7df6-4ded-b234-13d64a05c81f"
      },
      "execution_count": 31,
      "outputs": [
        {
          "output_type": "stream",
          "name": "stderr",
          "text": [
            "<ipython-input-31-889d27ae9a7c>:1: FutureWarning: You are using `torch.load` with `weights_only=False` (the current default value), which uses the default pickle module implicitly. It is possible to construct malicious pickle data which will execute arbitrary code during unpickling (See https://github.com/pytorch/pytorch/blob/main/SECURITY.md#untrusted-models for more details). In a future release, the default value for `weights_only` will be flipped to `True`. This limits the functions that could be executed during unpickling. Arbitrary objects will no longer be allowed to be loaded via this mode unless they are explicitly allowlisted by the user via `torch.serialization.add_safe_globals`. We recommend you start setting `weights_only=True` for any use case where you don't have full control of the loaded file. Please open an issue on GitHub for any issues related to this experimental feature.\n",
            "  model.load_state_dict(torch.load(\"./model.pth\"))\n"
          ]
        },
        {
          "output_type": "execute_result",
          "data": {
            "text/plain": [
              "CNN(\n",
              "  (conv1): Conv2d(1, 32, kernel_size=(3, 3), stride=(1, 1))\n",
              "  (conv2): Conv2d(32, 64, kernel_size=(3, 3), stride=(1, 1))\n",
              "  (dropout1): Dropout(p=0.25, inplace=False)\n",
              "  (dropout2): Dropout(p=0.5, inplace=False)\n",
              "  (fc1): Linear(in_features=9216, out_features=128, bias=True)\n",
              "  (fc2): Linear(in_features=128, out_features=10, bias=True)\n",
              ")"
            ]
          },
          "metadata": {},
          "execution_count": 31
        }
      ]
    },
    {
      "cell_type": "code",
      "source": [
        "# Test your model, the goal is to make the accuracy should be greater than 90%\n",
        "\n",
        "correct = 0\n",
        "total = 0\n",
        "\n",
        "with torch.no_grad():\n",
        "    for image, label in test_loader:\n",
        "        image = image.to(device)\n",
        "        label = label.to(device)\n",
        "\n",
        "        pred = model(image)\n",
        "        _, pred = torch.max(pred, dim=1)\n",
        "\n",
        "        total += label.shape[0]\n",
        "        correct += int((pred == label).sum())\n",
        "\n",
        "    print(f\"Accuracy: {correct / total * 100:.2f}%\")"
      ],
      "metadata": {
        "id": "--yFigN4mX1V",
        "colab": {
          "base_uri": "https://localhost:8080/"
        },
        "outputId": "506b74b3-c9ff-4cc2-e90b-dc833d5ea1c5"
      },
      "execution_count": 32,
      "outputs": [
        {
          "output_type": "stream",
          "name": "stdout",
          "text": [
            "Accuracy: 96.52%\n"
          ]
        }
      ]
    },
    {
      "cell_type": "code",
      "source": [],
      "metadata": {
        "id": "CKk1mS5cdO0p"
      },
      "execution_count": 32,
      "outputs": []
    }
  ]
}