{
  "cells": [
    {
      "cell_type": "markdown",
      "metadata": {
        "id": "dZrwzXDInBi7"
      },
      "source": [
        "# ECE 117 - Assignment 3: Part 2\n",
        "The goal of this part of the assignment is to implement the adversarial examples attack, FGSM."
      ]
    },
    {
      "cell_type": "code",
      "execution_count": 1,
      "metadata": {
        "id": "JoGiq9lwgYxW"
      },
      "outputs": [],
      "source": [
        "import numpy as np\n",
        "import torch\n",
        "from torch import nn, utils\n",
        "import torch.nn.functional as F\n",
        "from torchvision import datasets, transforms\n",
        "import matplotlib.pyplot as plt"
      ]
    },
    {
      "cell_type": "code",
      "execution_count": 2,
      "metadata": {
        "id": "6Xt57nWkfw_D",
        "colab": {
          "base_uri": "https://localhost:8080/"
        },
        "outputId": "58da3efe-03be-42cb-ebcb-287d0fa3000c"
      },
      "outputs": [
        {
          "output_type": "stream",
          "name": "stdout",
          "text": [
            "Device: cuda\n"
          ]
        }
      ],
      "source": [
        "device = torch.device(\"cuda\" if torch.cuda.is_available() else \"cpu\")\n",
        "print(f\"Device: {device}\")"
      ]
    },
    {
      "cell_type": "code",
      "execution_count": 3,
      "metadata": {
        "id": "T6lKY90DNJXy",
        "colab": {
          "base_uri": "https://localhost:8080/"
        },
        "outputId": "007be575-a222-4bef-9b3f-800e2493cfad"
      },
      "outputs": [
        {
          "output_type": "stream",
          "name": "stdout",
          "text": [
            "Downloading https://www.cs.toronto.edu/~kriz/cifar-10-python.tar.gz to ./data/cifar-10-python.tar.gz\n"
          ]
        },
        {
          "output_type": "stream",
          "name": "stderr",
          "text": [
            "100%|██████████| 170M/170M [00:17<00:00, 10.0MB/s]\n"
          ]
        },
        {
          "output_type": "stream",
          "name": "stdout",
          "text": [
            "Extracting ./data/cifar-10-python.tar.gz to ./data\n",
            "Files already downloaded and verified\n"
          ]
        }
      ],
      "source": [
        "# load CIFAR-10, which is proposed by Alex Krizhevsky and Geoffrey Hinton\n",
        "# it contains 60,000 32x32 images (50,000 for training, 10,000 for testing)\n",
        "# CIFAR-10 divides these images to 10 categories\n",
        "\n",
        "transform = transforms.Compose([transforms.ToTensor()]) # covert data in CIFAR-10 to tensors\n",
        "\n",
        "train_dataset = datasets.CIFAR10(root='./data', train=True, download=True, transform=transform)\n",
        "train_loader = utils.data.DataLoader(train_dataset, batch_size=128, shuffle=True, num_workers=2)\n",
        "\n",
        "test_dataset = datasets.CIFAR10(root='./data', train=False, download=True, transform=transform)\n",
        "test_loader = utils.data.DataLoader(test_dataset, batch_size=128, shuffle=True, num_workers=2)"
      ]
    },
    {
      "cell_type": "code",
      "execution_count": 4,
      "metadata": {
        "id": "wlIT_CXsfCTu"
      },
      "outputs": [],
      "source": [
        "# there are 10 categories in CIFAR-10\n",
        "\n",
        "classes = [\"plane\", \"car\", \"bird\", \"cat\", \"deer\", \"dog\", \"frog\", \"horse\", \"ship\", \"truck\"]"
      ]
    },
    {
      "cell_type": "code",
      "execution_count": 5,
      "metadata": {
        "id": "qrJaDXbrOJ3H"
      },
      "outputs": [],
      "source": [
        "# construct our Neural Network\n",
        "\n",
        "class CNN(nn.Module):\n",
        "    def __init__(self):\n",
        "        super().__init__()\n",
        "        self.network = nn.Sequential(\n",
        "            nn.Conv2d(3, 32, kernel_size=3, stride=1, padding=1),\n",
        "            nn.ReLU(),\n",
        "            nn.BatchNorm2d(32),\n",
        "            nn.Conv2d(32, 32, kernel_size=3, stride=2, padding=1),\n",
        "            nn.ReLU(),\n",
        "            nn.BatchNorm2d(32),\n",
        "            nn.Conv2d(32, 64, kernel_size=3, stride=1, padding=1),\n",
        "            nn.ReLU(),\n",
        "            nn.BatchNorm2d(64),\n",
        "            nn.Conv2d(64, 64, kernel_size=3, stride=2, padding=1),\n",
        "            nn.ReLU(),\n",
        "            nn.BatchNorm2d(64),\n",
        "            nn.Conv2d(64, 64, kernel_size=3, stride=1, padding=1),\n",
        "            nn.ReLU(),\n",
        "            nn.BatchNorm2d(64),\n",
        "            nn.Conv2d(64, 128, kernel_size=3, stride=2, padding=1),\n",
        "            nn.ReLU(),\n",
        "            nn.BatchNorm2d(128),\n",
        "            nn.Flatten(),\n",
        "            nn.Linear(128 * 4 * 4, 10))\n",
        "\n",
        "    def forward(self, x):\n",
        "        x = self.network(x)\n",
        "        return x\n",
        "\n",
        "    def size(self):\n",
        "        parameters = self.parameters()\n",
        "        size = 0\n",
        "        for parameter in parameters:\n",
        "            size += np.prod(parameter.shape)\n",
        "        return size"
      ]
    },
    {
      "cell_type": "code",
      "execution_count": 6,
      "metadata": {
        "id": "nF1lWRxqF1QC",
        "colab": {
          "base_uri": "https://localhost:8080/"
        },
        "outputId": "fbb9c6ba-51d5-4d72-9359-88f6320c8f6f"
      },
      "outputs": [
        {
          "output_type": "stream",
          "name": "stdout",
          "text": [
            "Collecting wget\n",
            "  Downloading wget-3.2.zip (10 kB)\n",
            "  Preparing metadata (setup.py) ... \u001b[?25l\u001b[?25hdone\n",
            "Building wheels for collected packages: wget\n",
            "  Building wheel for wget (setup.py) ... \u001b[?25l\u001b[?25hdone\n",
            "  Created wheel for wget: filename=wget-3.2-py3-none-any.whl size=9656 sha256=07bb8939753ab98294fbc832d7a829eff33273019cfbaba89637fc35cf3d2c20\n",
            "  Stored in directory: /root/.cache/pip/wheels/8b/f1/7f/5c94f0a7a505ca1c81cd1d9208ae2064675d97582078e6c769\n",
            "Successfully built wget\n",
            "Installing collected packages: wget\n",
            "Successfully installed wget-3.2\n"
          ]
        }
      ],
      "source": [
        "# Download a pretrained CIFAR-10 model (we don't have to pre-train a model to perform on CIFAR-10 in this task)\n",
        "!pip install wget\n",
        "import wget\n",
        "\n",
        "weights_file = wget.download(\"https://github.com/kuanhenglin/ai-security-workshop/blob/f08ced8a4afb7de1120bfdbf468888c7be10fdd8/cifar10_model.pth?raw=true\")"
      ]
    },
    {
      "cell_type": "code",
      "execution_count": 7,
      "metadata": {
        "id": "8H-aU4NuUdvV",
        "colab": {
          "base_uri": "https://localhost:8080/"
        },
        "outputId": "94e41f2d-230f-4e52-d678-86df13aec3f0"
      },
      "outputs": [
        {
          "output_type": "stream",
          "name": "stderr",
          "text": [
            "<ipython-input-7-1ea5b2f7a6ee>:2: FutureWarning: You are using `torch.load` with `weights_only=False` (the current default value), which uses the default pickle module implicitly. It is possible to construct malicious pickle data which will execute arbitrary code during unpickling (See https://github.com/pytorch/pytorch/blob/main/SECURITY.md#untrusted-models for more details). In a future release, the default value for `weights_only` will be flipped to `True`. This limits the functions that could be executed during unpickling. Arbitrary objects will no longer be allowed to be loaded via this mode unless they are explicitly allowlisted by the user via `torch.serialization.add_safe_globals`. We recommend you start setting `weights_only=True` for any use case where you don't have full control of the loaded file. Please open an issue on GitHub for any issues related to this experimental feature.\n",
            "  network.load_state_dict(torch.load(weights_file, map_location=device))\n"
          ]
        },
        {
          "output_type": "execute_result",
          "data": {
            "text/plain": [
              "CNN(\n",
              "  (network): Sequential(\n",
              "    (0): Conv2d(3, 32, kernel_size=(3, 3), stride=(1, 1), padding=(1, 1))\n",
              "    (1): ReLU()\n",
              "    (2): BatchNorm2d(32, eps=1e-05, momentum=0.1, affine=True, track_running_stats=True)\n",
              "    (3): Conv2d(32, 32, kernel_size=(3, 3), stride=(2, 2), padding=(1, 1))\n",
              "    (4): ReLU()\n",
              "    (5): BatchNorm2d(32, eps=1e-05, momentum=0.1, affine=True, track_running_stats=True)\n",
              "    (6): Conv2d(32, 64, kernel_size=(3, 3), stride=(1, 1), padding=(1, 1))\n",
              "    (7): ReLU()\n",
              "    (8): BatchNorm2d(64, eps=1e-05, momentum=0.1, affine=True, track_running_stats=True)\n",
              "    (9): Conv2d(64, 64, kernel_size=(3, 3), stride=(2, 2), padding=(1, 1))\n",
              "    (10): ReLU()\n",
              "    (11): BatchNorm2d(64, eps=1e-05, momentum=0.1, affine=True, track_running_stats=True)\n",
              "    (12): Conv2d(64, 64, kernel_size=(3, 3), stride=(1, 1), padding=(1, 1))\n",
              "    (13): ReLU()\n",
              "    (14): BatchNorm2d(64, eps=1e-05, momentum=0.1, affine=True, track_running_stats=True)\n",
              "    (15): Conv2d(64, 128, kernel_size=(3, 3), stride=(2, 2), padding=(1, 1))\n",
              "    (16): ReLU()\n",
              "    (17): BatchNorm2d(128, eps=1e-05, momentum=0.1, affine=True, track_running_stats=True)\n",
              "    (18): Flatten(start_dim=1, end_dim=-1)\n",
              "    (19): Linear(in_features=2048, out_features=10, bias=True)\n",
              "  )\n",
              ")"
            ]
          },
          "metadata": {},
          "execution_count": 7
        }
      ],
      "source": [
        "network = CNN()\n",
        "network.load_state_dict(torch.load(weights_file, map_location=device))\n",
        "network.to(device)\n",
        "network.eval() # show the model architecture"
      ]
    },
    {
      "cell_type": "code",
      "execution_count": 8,
      "metadata": {
        "id": "HBX5zYFZh3IQ"
      },
      "outputs": [],
      "source": [
        "# test the performance on test datasets with the pre-trained model\n",
        "\n",
        "@torch.no_grad()\n",
        "def evaluate(loader, network):\n",
        "    network.eval()\n",
        "    accuracies = []\n",
        "    for inputs, labels in loader:\n",
        "        inputs = inputs.to(device)\n",
        "        labels = labels.to(device)\n",
        "        outputs = network(inputs)\n",
        "        accuracy = (torch.max(outputs, dim=1)[1] == labels).to(torch.float32).mean()  # accuracy\n",
        "        accuracies.append(accuracy.cpu().numpy())\n",
        "    return np.mean(accuracies)"
      ]
    },
    {
      "cell_type": "code",
      "execution_count": 9,
      "metadata": {
        "id": "CLX9lAYqIszL",
        "colab": {
          "base_uri": "https://localhost:8080/"
        },
        "outputId": "54f7c5c3-263e-448c-83ef-3d8a324afd98"
      },
      "outputs": [
        {
          "output_type": "stream",
          "name": "stdout",
          "text": [
            "Test accuracy: 86.797%\n"
          ]
        }
      ],
      "source": [
        "accuracy = evaluate(test_loader, network)\n",
        "print(f\"Test accuracy: {str(accuracy * 100):.6}%\")"
      ]
    },
    {
      "cell_type": "markdown",
      "metadata": {
        "id": "zRZgmOkQJN0M"
      },
      "source": [
        "## Adversarial Attack\n",
        "\n",
        "In this task, you need to implement an Adversarial Attack to mislead the model to precit images incorrectly"
      ]
    },
    {
      "cell_type": "code",
      "execution_count": 10,
      "metadata": {
        "id": "p0sTRr9v_1P9"
      },
      "outputs": [],
      "source": [
        "# a util function to display the images\n",
        "\n",
        "def display_torch_image(image, label=None):\n",
        "    if label is not None:\n",
        "        plt.title(f\"{classes[label]} ({label})\")\n",
        "    plt.axis(\"off\")\n",
        "    plt.imshow(torch.moveaxis(image, 0, -1).cpu(), vmin=0, vmax=1)"
      ]
    },
    {
      "cell_type": "code",
      "execution_count": 11,
      "metadata": {
        "id": "UJ0n_js8Otha"
      },
      "outputs": [],
      "source": [
        "def display_attacked(image, image_attacked, noise, label, label_attacked):\n",
        "    fig, axes = plt.subplots(1, 3, figsize=(15, 5))\n",
        "\n",
        "    axes[0].axis(\"off\")\n",
        "    axes[0].set_title(f\"{classes[label]} ({label})\", fontsize=16)\n",
        "    axes[0].text(33.25, 16.5, \"$+$\", fontsize=24)\n",
        "    axes[0].imshow(torch.moveaxis(image, 0, -1).cpu(), vmin=0, vmax=1)\n",
        "\n",
        "    axes[1].axis(\"off\")\n",
        "    axes[1].set_title(f\"noise (amplified 5x)\", fontsize=16)\n",
        "    axes[1].text(32.75, 16, \"$=$\", fontsize=24)\n",
        "    axes[1].imshow(torch.moveaxis(noise, 0, -1).cpu(), vmin=0, vmax=1)\n",
        "\n",
        "    axes[2].axis(\"off\")\n",
        "    axes[2].set_title(f\"{classes[label_attacked]} ({label_attacked})\", fontsize=16)\n",
        "    axes[2].imshow(torch.moveaxis(image_attacked, 0, -1).cpu(), vmin=0, vmax=1)"
      ]
    },
    {
      "cell_type": "code",
      "execution_count": 21,
      "metadata": {
        "id": "TCCvvKtF-Koe"
      },
      "outputs": [],
      "source": [
        "def adversarial_attack(network, image, label, epsilon=0.1, sign=True):\n",
        "    # TODO\n",
        "\n",
        "    # Your implementation here.\n",
        "    # the idea is from Fast-Gradient Sign Method, where we perform gradient ascent\n",
        "    # we find the gradient of the loss with respect to the images\n",
        "    # then we nudge it with sign(g)\n",
        "    # refer to our lab3 slides\n",
        "\n",
        "    # forward pass\n",
        "    image.requires_grad = True\n",
        "\n",
        "    # pass image through network to get output\n",
        "    output = network(image.unsqueeze(dim=0))[0]\n",
        "    prediction = output.max(dim=0)[1].cpu().numpy()\n",
        "    loss = F.nll_loss(output, label)\n",
        "\n",
        "    #gradients of loss with respect to the image\n",
        "    image_gradients = torch.autograd.grad(loss, image)[0]\n",
        "    if sign:\n",
        "      image_gradients = image_gradients.sign()\n",
        "\n",
        "    #fast gradient sign attack\n",
        "\n",
        "    #add noise to image\n",
        "    image_attacked = (image + epsilon * image_gradients).clamp(0,1)\n",
        "\n",
        "    #get model output of attacked\n",
        "    output_attacked = network(image_attacked.unsqueeze(dim=0))[0]\n",
        "\n",
        "    #get prediction\n",
        "    prediction_attacked = output_attacked.max(dim=0)[1].cpu().numpy()\n",
        "\n",
        "    # End of TODO\n",
        "\n",
        "    display_attacked(image.detach(), image_attacked.detach(),\n",
        "                     image_gradients.detach() * 0.5 * (5 * epsilon) + 0.5,\n",
        "                     label=prediction, label_attacked=prediction_attacked)"
      ]
    },
    {
      "cell_type": "code",
      "execution_count": 27,
      "metadata": {
        "id": "1I97yR4PZMhI",
        "colab": {
          "base_uri": "https://localhost:8080/",
          "height": 428
        },
        "outputId": "49514a6c-01d2-413c-9d62-0a60b38db23f"
      },
      "outputs": [
        {
          "output_type": "display_data",
          "data": {
            "text/plain": [
              "<Figure size 640x480 with 1 Axes>"
            ],
            "image/png": "[encoded data removed]"
          },
          "metadata": {}
        }
      ],
      "source": [
        "batch_data = next(iter(train_loader))\n",
        "image = batch_data[0][0].to(device)\n",
        "label = batch_data[1][0].to(device)\n",
        "with torch.no_grad():\n",
        "    prediction = network(image.unsqueeze(dim=0)).max(dim=1)[1][0].cpu().numpy()\n",
        "    display_torch_image(image, label=prediction)"
      ]
    },
    {
      "cell_type": "markdown",
      "metadata": {
        "id": "bVWoaNj7KgGb"
      },
      "source": [
        "### Fast Gradient Sign Attack (FGSM)\n",
        "\n",
        "The goal of this part is to demonstrate a misclasification a baseline epsilon is provided but your goal is to provide the best hyperparameter."
      ]
    },
    {
      "cell_type": "code",
      "execution_count": 35,
      "metadata": {
        "id": "iQrVkby3CsuS",
        "colab": {
          "base_uri": "https://localhost:8080/",
          "height": 403
        },
        "outputId": "5a4ee2f4-8781-4783-85fc-23b625f489f7"
      },
      "outputs": [
        {
          "output_type": "display_data",
          "data": {
            "text/plain": [
              "<Figure size 1500x500 with 3 Axes>"
            ],
            "image/png": "[encoded data removed]"
          },
          "metadata": {}
        }
      ],
      "source": [
        "adversarial_attack(network, image, label, epsilon=0.002, sign=True)"
      ]
    },
    {
      "cell_type": "code",
      "source": [],
      "metadata": {
        "id": "d6Fc8Wa-lmYO"
      },
      "execution_count": null,
      "outputs": []
    }
  ],
  "metadata": {
    "accelerator": "GPU",
    "colab": {
      "provenance": [],
      "gpuType": "T4"
    },
    "kernelspec": {
      "display_name": "Python 3",
      "name": "python3"
    },
    "language_info": {
      "name": "python"
    }
  },
  "nbformat": 4,
  "nbformat_minor": 0
}
