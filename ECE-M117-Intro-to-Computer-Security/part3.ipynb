{
  "cells": [
    {
      "cell_type": "markdown",
      "metadata": {
        "id": "view-in-github",
        "colab_type": "text"
      },
      "source": [
        "<a href=\"https://colab.research.google.com/github/asmik12/Coursework_UCLA/blob/main/ECE-M117-Intro-to-Computer-Security/part3.ipynb\" target=\"_parent\"><img src=\"https://colab.research.google.com/assets/colab-badge.svg\" alt=\"Open In Colab\"/></a>"
      ]
    },
    {
      "cell_type": "markdown",
      "metadata": {
        "id": "rg6hMnlC3tdi"
      },
      "source": [
        "# ECE 117 - Assignment 3: Part 3\n",
        "The goal of this part of the assignment is to implement machine unlearning via fine-tuning."
      ]
    },
    {
      "cell_type": "code",
      "execution_count": null,
      "metadata": {
        "id": "V6YXq1oMM3bj"
      },
      "outputs": [],
      "source": [
        "import os\n",
        "import requests\n",
        "import numpy as np\n",
        "import matplotlib.pyplot as plt\n",
        "from sklearn import linear_model, model_selection\n",
        "\n",
        "import torch\n",
        "from torch import nn\n",
        "import torch.nn.functional as F\n",
        "from torch import optim\n",
        "from torch.utils.data import DataLoader\n",
        "\n",
        "import torchvision\n",
        "from torchvision import datasets, transforms\n",
        "from torchvision.utils import make_grid\n",
        "from torchvision.models import resnet18\n",
        "\n",
        "import tqdm\n",
        "\n",
        "DEVICE = \"cuda\" if torch.cuda.is_available() else \"cpu\"\n",
        "print(\"Running on device:\", DEVICE.upper())\n",
        "\n",
        "RNG = torch.Generator().manual_seed(42)"
      ]
    },
    {
      "cell_type": "code",
      "execution_count": null,
      "metadata": {
        "id": "g5G7DBCoM3bl"
      },
      "outputs": [],
      "source": [
        "normalize = transforms.Compose([transforms.ToTensor()])\n",
        "\n",
        "train_set = torchvision.datasets.FashionMNIST(\n",
        "    root=\"./data\", train=True, download=True, transform=normalize\n",
        ")\n",
        "train_loader = DataLoader(train_set, batch_size=128, shuffle=True, num_workers=2)\n",
        "\n",
        "held_out = torchvision.datasets.FashionMNIST(\n",
        "    root=\"./data\", train=False, download=True, transform=normalize\n",
        ")\n",
        "test_set, val_set = torch.utils.data.random_split(held_out, [0.5, 0.5], generator=RNG)\n",
        "test_loader = DataLoader(test_set, batch_size=128, shuffle=False, num_workers=2)\n",
        "val_loader = DataLoader(val_set, batch_size=128, shuffle=False, num_workers=2)\n",
        "\n",
        "forget_class = 0\n",
        "forget_idx, retain_idx = [], []\n",
        "for i, target in enumerate(train_set.targets):\n",
        "  if target == forget_class:\n",
        "    forget_idx.append(i)\n",
        "  else:\n",
        "    retain_idx.append(i)\n",
        "\n",
        "forget_set = torch.utils.data.Subset(train_set, forget_idx)\n",
        "retain_set = torch.utils.data.Subset(train_set, retain_idx)\n",
        "\n",
        "forget_loader = torch.utils.data.DataLoader(\n",
        "    forget_set, batch_size=128, shuffle=True, num_workers=2\n",
        ")\n",
        "retain_loader = torch.utils.data.DataLoader(\n",
        "    retain_set, batch_size=128, shuffle=True, num_workers=2, generator=RNG\n",
        ")"
      ]
    },
    {
      "cell_type": "code",
      "source": [
        "# This is provided as a baseline model but feel free to adjust this.\n",
        "class CNN(nn.Module):\n",
        "    def __init__(self):\n",
        "        super(CNN, self).__init__()\n",
        "        self.conv1 = nn.Conv2d(1, 6, 5)\n",
        "        self.pool = nn.MaxPool2d(2, 2)\n",
        "        self.conv2 = nn.Conv2d(6, 16, 5)\n",
        "        self.fc1 = nn.Linear(16 * 4 * 4, 120)\n",
        "        self.fc2 = nn.Linear(120, 84)\n",
        "        self.fc3 = nn.Linear(84, 10)\n",
        "\n",
        "    def forward(self, x):\n",
        "        x = self.pool(F.relu(self.conv1(x)))\n",
        "        x = self.pool(F.relu(self.conv2(x)))\n",
        "        x = x.view(-1, 16 * 4 * 4)\n",
        "        x = F.relu(self.fc1(x))\n",
        "        x = F.relu(self.fc2(x))\n",
        "        x = self.fc3(x)\n",
        "        return x"
      ],
      "metadata": {
        "id": "Yo6iC2Neco8i"
      },
      "execution_count": null,
      "outputs": []
    },
    {
      "cell_type": "code",
      "source": [
        "model = CNN().to(DEVICE)\n",
        "\n",
        "i_max = 6400\n",
        "\n",
        "criterion = torch.nn.CrossEntropyLoss()\n",
        "optimizer = torch.optim.Adam(model.parameters(), lr=0.001, weight_decay=0.0001)"
      ],
      "metadata": {
        "id": "FgzXoeGSddRI"
      },
      "execution_count": null,
      "outputs": []
    },
    {
      "cell_type": "code",
      "source": [
        "@torch.no_grad()\n",
        "def get_accuracy(model, data_loader, device):\n",
        "    correct = 0\n",
        "    total = 0\n",
        "\n",
        "    for inputs, labels in data_loader:\n",
        "        inputs = inputs.to(DEVICE)\n",
        "        labels = labels.to(DEVICE)\n",
        "\n",
        "        outputs = model(inputs)\n",
        "        _, predicted = torch.max(outputs, dim=1)\n",
        "\n",
        "        total += labels.shape[0]\n",
        "        correct += int((predicted == labels).sum())\n",
        "\n",
        "    return correct / total"
      ],
      "metadata": {
        "id": "Bg8RXpNFdu3m"
      },
      "execution_count": null,
      "outputs": []
    },
    {
      "cell_type": "code",
      "source": [
        "# First, train a baseline FashionMNIST CNN\n",
        "\n",
        "progress = tqdm.tqdm(total=i_max, desc=\"Training\")\n",
        "\n",
        "i = 0\n",
        "while i < i_max:\n",
        "    for inputs, labels in train_loader:\n",
        "        # Add training loop here\n",
        "\n",
        "        i += 1\n",
        "        progress.update(1)\n",
        "\n",
        "        if i % 1000 == 0:\n",
        "            train_acc = get_accuracy(model, train_loader, DEVICE)\n",
        "            test_acc = get_accuracy(model, test_loader, DEVICE)\n",
        "            progress.write(f\"Iter {i} Train Acc {train_acc:.4f} Test Acc {test_acc:.4f}\")\n",
        "\n",
        "        if i >= i_max:\n",
        "            break\n",
        "\n",
        "torch.save(model.state_dict(), \"./model.pth\")"
      ],
      "metadata": {
        "id": "9c_xrm-ld5bT"
      },
      "execution_count": null,
      "outputs": []
    },
    {
      "cell_type": "code",
      "source": [
        "test_accuracy = get_accuracy(model, test_loader, DEVICE)\n",
        "print(f\"Test Accuracy: {test_accuracy}\")"
      ],
      "metadata": {
        "id": "3_4S6EJthbSJ"
      },
      "execution_count": null,
      "outputs": []
    },
    {
      "cell_type": "code",
      "source": [
        "# Machine unlearning via fine-tuning\n",
        "i_max =\n",
        "\n",
        "progress = tqdm.tqdm(total=i_max, desc=\"Training\")\n",
        "\n",
        "i = 0\n",
        "while i < i_max:\n",
        "    for inputs, labels in retain_set:\n",
        "        # modify loop to fine-tune model\n",
        "\n",
        "        i += 1\n",
        "        progress.update(1)\n",
        "\n",
        "        if i % 1000 == 0:\n",
        "            train_acc = get_accuracy(model, train_loader, DEVICE)\n",
        "            test_acc = get_accuracy(model, test_loader, DEVICE)\n",
        "            progress.write(f\"Iter {i} Train Acc {train_acc:.4f} Test Acc {test_acc:.4f}\")\n",
        "\n",
        "        if i >= i_max:\n",
        "            break\n",
        "\n",
        "torch.save(model.state_dict(), \"./model-unlearned.pth\")"
      ],
      "metadata": {
        "id": "TxR0pCUTfbxr"
      },
      "execution_count": null,
      "outputs": []
    },
    {
      "cell_type": "code",
      "source": [
        "model_retain = CNN().to(DEVICE)\n",
        "\n",
        "i_max = 6400\n",
        "\n",
        "criterion_retain = torch.nn.CrossEntropyLoss()\n",
        "optimizer_retain = torch.optim.Adam(model_retain.parameters(), lr=0.001, weight_decay=0.0001)"
      ],
      "metadata": {
        "id": "Lj4iY6M4fDgT"
      },
      "execution_count": null,
      "outputs": []
    },
    {
      "cell_type": "code",
      "source": [
        "# Train only purely the retain set to benchmark\n",
        "\n",
        "progress = tqdm.tqdm(total=i_max, desc=\"Training\")\n",
        "\n",
        "i = 0\n",
        "while i < i_max:\n",
        "    for inputs, labels in retain_loader:\n",
        "        model_retain.train()\n",
        "\n",
        "        inputs = inputs.to(DEVICE)\n",
        "        labels = labels.to(DEVICE)\n",
        "\n",
        "        outputs = model_retain(inputs)\n",
        "        loss = criterion_retain(outputs, labels)\n",
        "\n",
        "        optimizer_retain.zero_grad()\n",
        "        loss.backward()\n",
        "        optimizer_retain.step()\n",
        "\n",
        "        i += 1\n",
        "        progress.update(1)\n",
        "\n",
        "        if i % 1000 == 0:\n",
        "            train_acc = get_accuracy(model_retain, retain_loader, DEVICE)\n",
        "            test_acc = get_accuracy(model_retain, test_loader, DEVICE)\n",
        "            progress.write(f\"Iter {i} Train Acc {train_acc:.4f} Test Acc {test_acc:.4f}\")\n",
        "\n",
        "        if i >= i_max:\n",
        "            break\n",
        "\n",
        "torch.save(model_retain.state_dict(), \"./model-retain.pth\")"
      ],
      "metadata": {
        "id": "E3lkjgrRe3sf"
      },
      "execution_count": null,
      "outputs": []
    },
    {
      "cell_type": "code",
      "execution_count": null,
      "metadata": {
        "id": "fWUxHD3EM3bm"
      },
      "outputs": [],
      "source": [
        "def compute_losses(net, loader):\n",
        "    criterion = nn.CrossEntropyLoss(reduction=\"none\")\n",
        "    all_losses = []\n",
        "\n",
        "    for inputs, targets in loader:\n",
        "        inputs, targets = inputs.to(DEVICE), targets.to(DEVICE)\n",
        "\n",
        "        logits = net(inputs)\n",
        "        losses = criterion(logits, targets).numpy(force=True)\n",
        "        for l in losses:\n",
        "            all_losses.append(l)\n",
        "\n",
        "    return np.array(all_losses)\n",
        "\n",
        "\n",
        "train_losses = compute_losses(model, train_loader)\n",
        "test_losses = compute_losses(model, test_loader)"
      ]
    },
    {
      "cell_type": "code",
      "execution_count": null,
      "metadata": {
        "id": "j2t4sYtZM3bm"
      },
      "outputs": [],
      "source": [
        "# plot losses on train and test set\n",
        "plt.title(\"Losses on train and test set (trained model)\")\n",
        "plt.hist(test_losses, density=True, alpha=0.5, bins=50, label=\"Test set\")\n",
        "plt.hist(train_losses, density=True, alpha=0.5, bins=50, label=\"Train set\")\n",
        "plt.xlabel(\"Loss\", fontsize=14)\n",
        "plt.ylabel(\"Frequency\", fontsize=14)\n",
        "plt.xlim((0, np.max(test_losses)))\n",
        "plt.yscale(\"log\")\n",
        "plt.legend(frameon=False, fontsize=14)\n",
        "ax = plt.gca()\n",
        "ax.spines[\"top\"].set_visible(False)\n",
        "ax.spines[\"right\"].set_visible(False)\n",
        "plt.show()"
      ]
    },
    {
      "cell_type": "code",
      "execution_count": null,
      "metadata": {
        "id": "6gBtdz7AM3bm"
      },
      "outputs": [],
      "source": [
        "def simple_mia(sample_loss, members, n_splits=10, random_state=0):\n",
        "    unique_members = np.unique(members)\n",
        "    if not np.all(unique_members == np.array([0, 1])):\n",
        "        raise ValueError(\"members should only have 0 and 1s\")\n",
        "\n",
        "    attack_model = linear_model.LogisticRegression()\n",
        "    cv = model_selection.StratifiedShuffleSplit(\n",
        "        n_splits=n_splits, random_state=random_state\n",
        "    )\n",
        "    return model_selection.cross_val_score(\n",
        "        attack_model, sample_loss, members, cv=cv, scoring=\"accuracy\"\n",
        "    )"
      ]
    },
    {
      "cell_type": "code",
      "execution_count": null,
      "metadata": {
        "id": "ekuEyHlUM3bm"
      },
      "outputs": [],
      "source": [
        "forget_losses = compute_losses(model, forget_loader)\n",
        "\n",
        "# Since we have more forget losses than test losses, sub-sample them, to have a class-balanced dataset.\n",
        "np.random.shuffle(forget_losses)\n",
        "forget_losses = forget_losses[: len(test_losses)]\n",
        "\n",
        "samples_mia = np.concatenate((test_losses, forget_losses)).reshape((-1, 1))\n",
        "labels_mia = [0] * len(test_losses) + [1] * len(forget_losses)\n",
        "\n",
        "mia_scores = simple_mia(samples_mia, labels_mia)\n",
        "\n",
        "print(\n",
        "    f\"The MIA has an accuracy of {mia_scores.mean():.3f} on forgotten vs unseen images\"\n",
        ")"
      ]
    },
    {
      "cell_type": "code",
      "execution_count": null,
      "metadata": {
        "id": "wYgYXRvPM3bm"
      },
      "outputs": [],
      "source": [
        "# Benchmark model purely on the retain set.\n",
        "\n",
        "ft_forget_losses = compute_losses(model_retain, forget_loader)\n",
        "ft_test_losses = compute_losses(model_retain, test_loader)\n",
        "\n",
        "# make sure we have a balanced dataset for the MIA\n",
        "assert len(ft_test_losses) == len(ft_forget_losses)\n",
        "\n",
        "ft_samples_mia = np.concatenate((ft_test_losses, ft_forget_losses)).reshape((-1, 1))\n",
        "labels_mia = [0] * len(ft_test_losses) + [1] * len(ft_forget_losses)"
      ]
    },
    {
      "cell_type": "code",
      "execution_count": null,
      "metadata": {
        "id": "BWvzT3cPGvYs"
      },
      "outputs": [],
      "source": [
        "ft_mia_scores = simple_mia(ft_samples_mia, labels_mia)\n",
        "\n",
        "print(\n",
        "    f\"The MIA has an accuracy of {ft_mia_scores.mean():.3f} on forgotten vs unseen images\"\n",
        ")"
      ]
    },
    {
      "cell_type": "code",
      "execution_count": null,
      "metadata": {
        "id": "bJ8JI-GDM3bn"
      },
      "outputs": [],
      "source": [
        "# Compare the results to determine the efficacy of the machine-unlearning implementation\n",
        "\n",
        "fig, (ax1, ax2) = plt.subplots(1, 2, figsize=(16, 6))\n",
        "\n",
        "ax1.set_title(f\"Unlearned by fine-tuning model.\\nAttack accuracy: {mia_scores.mean():0.2f}\")\n",
        "ax1.hist(test_losses, density=True, alpha=0.5, bins=50, label=\"Test set\")\n",
        "ax1.hist(forget_losses, density=True, alpha=0.5, bins=50, label=\"Forget set\")\n",
        "\n",
        "ax2.set_title(\n",
        "    f\"Retained model performance.\\nAttack accuracy: {ft_mia_scores.mean():0.2f}\"\n",
        ")\n",
        "ax2.hist(ft_test_losses, density=True, alpha=0.5, bins=50, label=\"Test set\")\n",
        "ax2.hist(ft_forget_losses, density=True, alpha=0.5, bins=50, label=\"Forget set\")\n",
        "\n",
        "ax1.set_xlabel(\"Loss\")\n",
        "ax2.set_xlabel(\"Loss\")\n",
        "ax1.set_ylabel(\"Frequency\")\n",
        "ax1.set_yscale(\"log\")\n",
        "ax2.set_yscale(\"log\")\n",
        "ax1.set_xlim((0, np.max(test_losses)))\n",
        "ax2.set_xlim((0, np.max(test_losses)))\n",
        "for ax in (ax1, ax2):\n",
        "    ax.spines[\"top\"].set_visible(False)\n",
        "    ax.spines[\"right\"].set_visible(False)\n",
        "ax1.legend(frameon=False, fontsize=14)\n",
        "plt.show()"
      ]
    }
  ],
  "metadata": {
    "accelerator": "GPU",
    "colab": {
      "gpuType": "T4",
      "provenance": [],
      "include_colab_link": true
    },
    "kernelspec": {
      "display_name": "Python 3",
      "name": "python3"
    },
    "language_info": {
      "codemirror_mode": {
        "name": "ipython",
        "version": 3
      },
      "file_extension": ".py",
      "mimetype": "text/x-python",
      "name": "python",
      "nbconvert_exporter": "python",
      "pygments_lexer": "ipython3",
      "version": "3.10.4"
    }
  },
  "nbformat": 4,
  "nbformat_minor": 0
}