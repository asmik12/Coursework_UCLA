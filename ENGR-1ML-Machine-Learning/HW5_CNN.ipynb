{
  "cells": [
    {
      "cell_type": "markdown",
      "metadata": {
        "id": "qfT61medTBY6"
      },
      "source": [
        "📝 Hello, this is the Week 6 in-lecture notebook to complete during class.\n",
        "\n",
        "In Lecture 7 we will finish our discussion of fully connected nueral networks 🧠 and begin discussing convolutional neural networks."
      ]
    },
    {
      "cell_type": "code",
      "execution_count": 6,
      "metadata": {
        "colab": {
          "base_uri": "https://localhost:8080/"
        },
        "id": "1NXxusJ3usBR",
        "outputId": "0faa14ea-7d25-466a-925b-eda9aae6bf04"
      },
      "outputs": [
        {
          "name": "stdout",
          "output_type": "stream",
          "text": [
            "Requirement already satisfied: torch in c:\\users\\asmi_\\asmi's documents\\academics\\2022-26_ucla\\coursework_ucla\\venv\\lib\\site-packages (2.6.0)\n",
            "Requirement already satisfied: filelock in c:\\users\\asmi_\\asmi's documents\\academics\\2022-26_ucla\\coursework_ucla\\venv\\lib\\site-packages (from torch) (3.17.0)\n",
            "Requirement already satisfied: typing-extensions>=4.10.0 in c:\\users\\asmi_\\asmi's documents\\academics\\2022-26_ucla\\coursework_ucla\\venv\\lib\\site-packages (from torch) (4.12.2)\n",
            "Requirement already satisfied: networkx in c:\\users\\asmi_\\asmi's documents\\academics\\2022-26_ucla\\coursework_ucla\\venv\\lib\\site-packages (from torch) (3.4.2)\n",
            "Requirement already satisfied: jinja2 in c:\\users\\asmi_\\asmi's documents\\academics\\2022-26_ucla\\coursework_ucla\\venv\\lib\\site-packages (from torch) (3.1.5)\n",
            "Requirement already satisfied: fsspec in c:\\users\\asmi_\\asmi's documents\\academics\\2022-26_ucla\\coursework_ucla\\venv\\lib\\site-packages (from torch) (2025.2.0)\n",
            "Requirement already satisfied: sympy==1.13.1 in c:\\users\\asmi_\\asmi's documents\\academics\\2022-26_ucla\\coursework_ucla\\venv\\lib\\site-packages (from torch) (1.13.1)\n",
            "Requirement already satisfied: mpmath<1.4,>=1.1.0 in c:\\users\\asmi_\\asmi's documents\\academics\\2022-26_ucla\\coursework_ucla\\venv\\lib\\site-packages (from sympy==1.13.1->torch) (1.3.0)\n",
            "Requirement already satisfied: MarkupSafe>=2.0 in c:\\users\\asmi_\\asmi's documents\\academics\\2022-26_ucla\\coursework_ucla\\venv\\lib\\site-packages (from jinja2->torch) (3.0.2)\n",
            "Note: you may need to restart the kernel to use updated packages.\n"
          ]
        },
        {
          "name": "stderr",
          "output_type": "stream",
          "text": [
            "\n",
            "[notice] A new release of pip is available: 24.0 -> 25.0.1\n",
            "[notice] To update, run: python.exe -m pip install --upgrade pip\n"
          ]
        }
      ],
      "source": [
        "%pip install torch"
      ]
    },
    {
      "cell_type": "code",
      "execution_count": 7,
      "metadata": {
        "id": "JSocVUB5H3nw"
      },
      "outputs": [],
      "source": [
        "import torch\n",
        "import torch.nn as nn\n",
        "import torch.nn.functional as F\n",
        "import numpy as np"
      ]
    },
    {
      "cell_type": "markdown",
      "metadata": {
        "id": "i1bPMoyyTRSB"
      },
      "source": [
        "For your final homework (the one assigned last week) you are using PyTorch to do a linear regression assignment, similar to the assignments you had in previous homeworks. This notebook is here to help build up some of the pieces you will use going forward when making neural networks.\n",
        "\n",
        "Let's imagine we are building a classifier for images. These images will be given to us as grayscale 3x3 images. (These would obviously be VERY simple images, this is just for tutorial reasons.) These images can either be bears 🐻, dogs 🐕, cats 🐈, or fish 🐟.\n",
        "\n",
        "First a few questions to think about:\n",
        "1. How many inputs does our neural network have?\n",
        "2. How should we change our input to make it easier to feed to the neural network?\n",
        "3. How many outputs does our neural network have?\n",
        "4. If our neural network does not use hidden layers, what would the dimensions of the array that represent our transformation from input to output be?\n",
        "5. What does this say about the dimensions of the arrays that make up all of our stages?\n",
        "\n",
        "📰 Task 1: Convert the 3x3 tensor into a 1x9 tensor which will be a better input for our neural network. First do this with the individual tensor (in1), then try to do it with the list of tensors (our \"training data\"). Then append the flattened in1 to the flattened training data (making it the 100th piece of data).\n",
        "\n",
        "Hint: consider using one of the following:\n",
        "* torch.flatten\n",
        "* torch.reshape\n",
        "* torch.cat"
      ]
    },
    {
      "cell_type": "code",
      "execution_count": 8,
      "metadata": {
        "id": "eR5x6DE7H5vr"
      },
      "outputs": [
        {
          "name": "stdout",
          "output_type": "stream",
          "text": [
            "torch.Size([1, 9])\n",
            "torch.Size([99, 9])\n",
            "torch.Size([100, 9])\n"
          ]
        }
      ],
      "source": [
        "#3x3 tensor\n",
        "\n",
        "np.random.seed(0)\n",
        "in1_numpy = np.random.randint(256, size=(3,3))\n",
        "in1 = torch.tensor(in1_numpy, dtype=torch.float)\n",
        "\n",
        "in99_numpy = np.random.randint(256, size=(99, 3, 3))\n",
        "in99 = torch.tensor(in99_numpy, dtype=torch.float)\n",
        "\n",
        "picture_labels_numpy = np.random.randint(4, size=(100))\n",
        "picture_labels = torch.tensor(picture_labels_numpy, dtype=torch.float)\n",
        "\n",
        "########################\n",
        "## YOUR CODE STARTS HERE\n",
        "########################\n",
        "\n",
        "# Task 1: Flatten in1 to be a (1x9) tensor, then flatten training_data to a (99x9) tensor, then concatenate both into a (100x9) tensor\n",
        "in1 = in1.reshape(1,9)\n",
        "in99 = in99.reshape(99,9)\n",
        "print(in1.shape)\n",
        "print(in99.shape)\n",
        "final = torch.cat((in1, in99))\n",
        "print(final.shape)\n",
        "\n",
        "########################\n",
        "## YOUR CODE ENDS HERE\n",
        "########################"
      ]
    },
    {
      "cell_type": "markdown",
      "metadata": {
        "id": "hRNgPNUjd4W7"
      },
      "source": [
        "🚆 Task 2: Make a simple neural network with one hidden layer for your data. The hidden layer should have 5 neurons on it. You can store your weights in two matrices, and initialize them to 1s or random numbers. Convert your input data to the hidden layer and then that to your output data by multiplying your input by the weight matrices.\n",
        "\n",
        "Things to consider:\n",
        "\n",
        "1. Why do we use matrices to store our weights?\n",
        "Ans: Matrix multiplication efficiently transforms input data through different layers of a neural network. Matrices allow us to handle multiple inputs and neurons simultaneously, making computations easier, structured and scalable for larger networks. \n",
        "\n",
        "2. What will the dimensions of our matrices be?\n",
        "Assuming the input data has $n$ features, and our network has a hidden layer with 5 neurons and an output layer with $m$ outputs, the weight matrices will have the following dimensions:\n",
        "- W1: nx5\n",
        "- W2: 5xm\n",
        "\n",
        "Assuming that the forward pass is $xW$"
      ]
    },
    {
      "cell_type": "code",
      "execution_count": 19,
      "metadata": {
        "id": "3Q7k3ag1dxRP"
      },
      "outputs": [
        {
          "name": "stdout",
          "output_type": "stream",
          "text": [
            "Hidden layer shape: torch.Size([100, 5])\n",
            "Final output shape: torch.Size([100, 4])\n"
          ]
        }
      ],
      "source": [
        "########################\n",
        "## YOUR CODE STARTS HERE\n",
        "########################\n",
        "\n",
        "# Define layer sizes\n",
        "input_size = final.shape[1]\n",
        "hidden_size = 5\n",
        "output_size = 4\n",
        "\n",
        "#Initialize weights randomly\n",
        "W1 = torch.randn(input_size, hidden_size)\n",
        "W2 = torch.randn(hidden_size, output_size)\n",
        "\n",
        "#Forward pass\n",
        "hidden_layer = torch.matmul(final, W1)\n",
        "output_layer = torch.matmul(hidden_layer, W2)\n",
        "\n",
        "print(\"Hidden layer shape:\", hidden_layer.shape)\n",
        "print(\"Final output shape:\", output_layer.shape)\n",
        "\n",
        "########################\n",
        "## YOUR CODE ENDS HERE\n",
        "########################"
      ]
    },
    {
      "cell_type": "markdown",
      "metadata": {
        "id": "xO5pxir5hdGK"
      },
      "source": [
        "Your output should now be a 100 x 4 matrix of numbers, each of which are unbounded. We would prefer to have each row's values sum to 1, so that the four numbers represent the probability that the image is a bear, dog, cat, or fish, respectively.\n",
        "\n",
        "🧮 Task 3: Use the softmax function to convert our outputs into probabilities\n",
        "\n",
        "Hint: Look up the torch.nn.functional.log_softmax function! The dim parameter allows us to specify which dimension we want to apply our function along.\n",
        "\n",
        "For example, if we set dim=0, softmax will be applied along the column and each column will sum to 1. Conversely, if we set dim=1, softmax will be applied along the row and each row will sum to 1. Think about which one we want and set dim accordingly."
      ]
    },
    {
      "cell_type": "code",
      "execution_count": 23,
      "metadata": {
        "id": "k9ejynAQj5JT"
      },
      "outputs": [],
      "source": [
        "########################\n",
        "## YOUR CODE STARTS HERE\n",
        "########################\n",
        "\n",
        "import torch.nn.functional as F\n",
        "log_probabilities = F.log_softmax(output_layer, dim=1)\n",
        "########################\n",
        "## YOUR CODE ENDS HERE\n",
        "########################"
      ]
    },
    {
      "cell_type": "markdown",
      "metadata": {
        "id": "uqj2FomSj8HO"
      },
      "source": [
        "Now we come across a common, but ultimately easy-to-solve problem in neural networks: how we should represent the output. Currently our output is a 100x4 matrix, but picture_labels (the correct output) is a 100x1 matrix.\n",
        "\n",
        "We can convert each row in picture_labels to three zeros and a single one value (1x4) to match our netural network's output. This is called a one-hot encoding. As of now, our actual picture label is only a single value for each image (thus a tensor of 100 values for the 100 images). This is called an integer encoding. Let's convert picture_labels to a one hot encoding so that we can compare it with our neural network's output.\n",
        "\n",
        "Example of conversion from integer to one-hot encoding: \\\n",
        "[0] -> [1 0 0 0] \\\n",
        "[1] -> [0 1 0 0] \\\n",
        "[2] -> [0 0 1 0] \\\n",
        "[3] -> [0 0 0 1]\n",
        "\n",
        "📭 Task 4: Use a pytorch function (or make your own) to convert the picture_labels matrix to one hot encoding. Then compute the log-loss of your estimated output and the actual output.\n",
        "\n",
        "Hint: the following may be helpful:\n",
        "*   torch.nn.functional.one_hot\n",
        "*   torch.nn.nll_loss"
      ]
    },
    {
      "cell_type": "code",
      "execution_count": null,
      "metadata": {
        "id": "DhucYDLKj5-J"
      },
      "outputs": [
        {
          "name": "stdout",
          "output_type": "stream",
          "text": [
            "tensor(748.3094)\n"
          ]
        }
      ],
      "source": [
        "########################\n",
        "## YOUR CODE STARTS HERE\n",
        "########################\n",
        "picture_labels =picture_labels.to(torch.int64)\n",
        "one_hot_labels = F.one_hot(picture_labels, num_classes=4)\n",
        "\n",
        "# Converting to one hot encoding is NOT compatible with the nll_loss function. The torch implementation of this function specifcially requires the target to be a tensor of class indices (not one hot encoded vectors)\n",
        "\n",
        "log_loss = F.nll_loss(log_probabilities, picture_labels)\n",
        "print(log_loss)\n",
        "########################\n",
        "## YOUR CODE ENDS HERE\n",
        "########################"
      ]
    },
    {
      "cell_type": "markdown",
      "metadata": {
        "id": "bEuH44pEq7gJ"
      },
      "source": [
        "Now that you have seen how a fully connected neural network works we are going to convert everything into PyTorch. When building actual neural networks in PyTorch we are going to use a class to represent the network. We will train an instance of this class for our model.\n",
        "\n",
        "🔃 Task 5: Create a class that will represent your neural network structure. You may add any layers you want to this, but keep in mind that between linear layers you are going to want a ReLU. Create the \\_\\_init__() and forward() methods for the class.\n",
        "\n",
        "Hint: the following may be helpful:\n",
        "* https://pytorch.org/docs/stable/generated/torch.nn.Module.html"
      ]
    },
    {
      "cell_type": "code",
      "execution_count": 44,
      "metadata": {
        "id": "fdm5UTzAsXuj"
      },
      "outputs": [],
      "source": [
        "########################\n",
        "## YOUR CODE STARTS HERE\n",
        "########################\n",
        "\n",
        "class NeuralNetwork(nn.Module):\n",
        "  def __init__(self):\n",
        "    super().__init__()\n",
        "    self.fc1 = nn.Linear(in_features=9, out_features=64)\n",
        "    self.fc2 = nn.Linear(in_features=64, out_features=32)\n",
        "    self.fc3 = nn.Linear(in_features=32, out_features=4)\n",
        "\n",
        "    self.relu = nn.ReLU()\n",
        "\n",
        "  def forward(self, x):\n",
        "    x = self.relu(self.fc1(x))\n",
        "    x = self.relu(self.fc2(x))\n",
        "    x = self.fc3(x)\n",
        "    return x\n",
        "\n",
        "model = NeuralNetwork()\n",
        "\n",
        "########################\n",
        "## YOUR CODE ENDS HERE\n",
        "########################"
      ]
    },
    {
      "cell_type": "markdown",
      "metadata": {
        "id": "8cQIXBT5zS0p"
      },
      "source": [
        "⛳ Task 6: Use the following training loop to train your model. Don't worry about splitting this model into training and testing data, these are just random values so they should not actually train to anything relevant."
      ]
    },
    {
      "cell_type": "code",
      "execution_count": 45,
      "metadata": {
        "id": "0-CS9MVbzc_C"
      },
      "outputs": [
        {
          "name": "stdout",
          "output_type": "stream",
          "text": [
            "43.881134033203125\n",
            "16.60980987548828\n",
            "12.779125213623047\n",
            "14.151317596435547\n",
            "9.221146583557129\n",
            "5.8320794105529785\n",
            "5.058023452758789\n",
            "2.6289825439453125\n",
            "1.6502537727355957\n",
            "1.6072630882263184\n"
          ]
        }
      ],
      "source": [
        "########################\n",
        "## YOUR CODE STARTS HERE\n",
        "########################\n",
        "\n",
        "num_epochs = 10\n",
        "learning_rate = 0.001\n",
        "momentum = 1\n",
        "num_epochs_to_print = 1\n",
        "\n",
        "criterion = nn.CrossEntropyLoss()\n",
        "optimizer = torch.optim.SGD(model.parameters(), lr=learning_rate, momentum=momentum)\n",
        "\n",
        "for i in range(num_epochs):\n",
        "\n",
        "  optimizer.zero_grad()\n",
        "\n",
        "  outputs = model(final)\n",
        "  loss = criterion(outputs, one_hot_labels.float())\n",
        "  loss.backward()\n",
        "  optimizer.step()\n",
        "\n",
        "  if i % num_epochs_to_print == 0:\n",
        "    print(loss.item())\n",
        "\n",
        "########################\n",
        "## YOUR CODE ENDS HERE\n",
        "########################"
      ]
    },
    {
      "cell_type": "markdown",
      "metadata": {
        "id": "lkQWKTTk0lk-"
      },
      "source": [
        "⏭ Task 7: (Optional) Add some convolutional neural network layers that we learned in class today to your model and try retraining. Think about the dimensions and what dimensions should be correct (consider printing shapes of the data at various stages)."
      ]
    },
    {
      "cell_type": "code",
      "execution_count": 47,
      "metadata": {
        "colab": {
          "base_uri": "https://localhost:8080/",
          "height": 434
        },
        "id": "bsiakNQNmz6G",
        "outputId": "fae590f7-cb80-45e1-a992-49abde150c2e"
      },
      "outputs": [
        {
          "name": "stdout",
          "output_type": "stream",
          "text": [
            "[[1 1 1]\n",
            " [1 0 0]\n",
            " [1 0 0]]\n",
            "[[3. 1. 1. 0. 0. 0. 1.]\n",
            " [4. 1. 1. 1. 0. 0. 1.]\n",
            " [4. 1. 1. 1. 1. 0. 1.]\n",
            " [3. 1. 1. 1. 1. 1. 1.]\n",
            " [3. 0. 1. 1. 1. 1. 2.]\n",
            " [3. 0. 0. 1. 1. 1. 2.]\n",
            " [3. 0. 0. 0. 1. 1. 2.]]\n"
          ]
        },
        {
          "data": {
            "image/png": "[encoded data removed]",
            "text/plain": [
              "<Figure size 640x480 with 6 Axes>"
            ]
          },
          "metadata": {},
          "output_type": "display_data"
        }
      ],
      "source": [
        "import matplotlib.pyplot as plt\n",
        "import numpy as np\n",
        "\n",
        "def conv(kern, img):\n",
        "  out = np.zeros((7, 7))\n",
        "  for i in range(7):\n",
        "    for j in range(7):\n",
        "      out[i][j] = sum(sum(img[i:i+3, j:j+3] * kern))\n",
        "  return out\n",
        "\n",
        "kernel_temp = [[1,1,1],[1,0,0],[1,0,0]]\n",
        "kernel = np.array(kernel_temp)\n",
        "\n",
        "imageX = np.zeros((9, 9))\n",
        "imageN = np.zeros((9, 9))\n",
        "imageZ = np.zeros((9, 9))\n",
        "imageO = np.zeros((9, 9))\n",
        "for i in range(9):\n",
        "  for j in range(9):\n",
        "    if i == j or i == 8 - j:\n",
        "      imageX[i][j] = 1.0\n",
        "    if i == j or j == 0 or j == 8:\n",
        "      imageN[i][j] = 1.0\n",
        "    if i == 8 - j or i == 0 or i == 8:\n",
        "      imageZ[i][j] = 1.0\n",
        "    if i == 1 or i == 7 or j == 1 or j == 7:\n",
        "      if not (i == 0 or j == 0 or i == 8 or j == 8):\n",
        "        imageO[i][j] = 1.0\n",
        "\n",
        "image = imageN\n",
        "\n",
        "out = conv(kernel, image)\n",
        "\n",
        "plt.subplot(1, 3, 1)\n",
        "plt.imshow(kernel)\n",
        "plt.colorbar()\n",
        "\n",
        "plt.subplot(1, 3, 2)\n",
        "plt.imshow(image)\n",
        "plt.colorbar()\n",
        "\n",
        "plt.subplot(1, 3, 3)\n",
        "plt.imshow(out)\n",
        "plt.colorbar()\n",
        "\n",
        "print(kernel)\n",
        "print(out)"
      ]
    },
    {
      "cell_type": "markdown",
      "metadata": {},
      "source": [
        "## Report\n",
        "\n",
        "Notes:\n",
        "- Instructions in this notebook seem to be misguiding. Converting to one hot encoding is NOT compatible with the nll_loss function. The torch implementation of this function specifcially requires the target to be a tensor of class indices (not one hot encoded vectors).\n",
        "\n",
        "Did you know that octopuses have three hearts? Two hearts pump blood to the gills, while the third pumps it to the rest of the body. And when an octopus swims, the heart that delivers blood to the body actually stops beating, which is one reason why they prefer crawling rather than swimming—it's less tiring for them!"
      ]
    }
  ],
  "metadata": {
    "colab": {
      "provenance": []
    },
    "kernelspec": {
      "display_name": "venv",
      "language": "python",
      "name": "python3"
    },
    "language_info": {
      "codemirror_mode": {
        "name": "ipython",
        "version": 3
      },
      "file_extension": ".py",
      "mimetype": "text/x-python",
      "name": "python",
      "nbconvert_exporter": "python",
      "pygments_lexer": "ipython3",
      "version": "3.11.9"
    }
  },
  "nbformat": 4,
  "nbformat_minor": 0
}
